{
 "cells": [
  {
   "cell_type": "code",
   "execution_count": 3,
   "id": "515b5c05",
   "metadata": {},
   "outputs": [],
   "source": [
    "from sklearn.datasets import fetch_california_housing\n",
    "import os\n",
    "\n",
    "root_path = os.path.dirname(os.path.dirname(os.path.abspath(__name__)))\n",
    "data_path = os.path.join(root_path, \"data\", \"california_housing_dataset\", \"housing.csv\")\n",
    "data = fetch_california_housing(as_frame=True)\n",
    "df = data.frame\n",
    "df.to_csv(data_path, index=False)"
   ]
  }
 ],
 "metadata": {
  "kernelspec": {
   "display_name": "mlops-assign1",
   "language": "python",
   "name": "python3"
  },
  "language_info": {
   "codemirror_mode": {
    "name": "ipython",
    "version": 3
   },
   "file_extension": ".py",
   "mimetype": "text/x-python",
   "name": "python",
   "nbconvert_exporter": "python",
   "pygments_lexer": "ipython3",
   "version": "3.12.11"
  }
 },
 "nbformat": 4,
 "nbformat_minor": 5
}
