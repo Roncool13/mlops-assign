{
 "cells": [
  {
   "cell_type": "code",
   "execution_count": null,
   "id": "ccd384eb",
   "metadata": {},
   "outputs": [
    {
     "data": {
      "application/vnd.jupyter.widget-view+json": {
       "model_id": "6211a9aa80e34a0d9ca18af0e1154ad8",
       "version_major": 2,
       "version_minor": 0
      },
      "text/plain": [
       "  0%|          | 0/1777 [00:00<?, ?it/s]"
      ]
     },
     "metadata": {},
     "output_type": "display_data"
    },
    {
     "name": "stdout",
     "output_type": "stream",
     "text": [
      "Report has been saved to /Users/ron/BITS/Sem 3/MLOPs (AIMLCZG523)/Assignment/Assignment-1/reports/eda_report.html!\n"
     ]
    }
   ],
   "source": [
    "import os\n",
    "import pandas as pd\n",
    "from dataprep.eda import create_report\n",
    "\n",
    "\n",
    "# Load the dataset\n",
    "root_path = os.path.dirname(os.path.dirname(os.path.abspath(__name__)))\n",
    "data_path = os.path.join(root_path, \"data\", \"california_housing_dataset\", \"housing.csv\")\n",
    "df = pd.read_csv(data_path)\n",
    "\n",
    "# Create the EDA report\n",
    "report = create_report(df, title=\"California Housing Dataset EDA Report\")\n",
    "\n",
    "# Ensure the reports directory exists\n",
    "reports_dir = os.path.join(root_path, \"reports\")\n",
    "os.makedirs(reports_dir, exist_ok=True)\n",
    "\n",
    "# Save the report to an HTML file\n",
    "report_path = os.path.join(reports_dir, \"eda_report.html\")\n",
    "report.save(report_path)\n"
   ]
  }
 ],
 "metadata": {
  "kernelspec": {
   "display_name": "mlops-assign",
   "language": "python",
   "name": "python3"
  },
  "language_info": {
   "codemirror_mode": {
    "name": "ipython",
    "version": 3
   },
   "file_extension": ".py",
   "mimetype": "text/x-python",
   "name": "python",
   "nbconvert_exporter": "python",
   "pygments_lexer": "ipython3",
   "version": "3.10.18"
  }
 },
 "nbformat": 4,
 "nbformat_minor": 5
}
